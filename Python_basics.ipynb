{
 "cells": [
  {
   "cell_type": "markdown",
   "metadata": {},
   "source": [
    "GEM 2019 Python Introduction\n",
    "========================\n",
    "Hey, [Dan Welling wrote this.  If it's wrong, complain at him.](mailto:dwelling@uta.edu)\n",
    "\n",
    "This intro is built from pieces of my own Python notebooks with some new material plugged in.  If you found this material useful, [there's more here.](http://www-personal.umich.edu/~dwelling/python/)\n",
    "\n",
    "The goal of this document is to give you a good first impression of Python: its capabilities, peculiarities, and potential power when employed for scientific research. I want you to leave for a bit of a flavor of how Python works and how to start to think in a \"pythonic\" way- using shortcuts made available through this language.\n",
    "\n",
    "This first line is for getting plots inline:"
   ]
  },
  {
   "cell_type": "code",
   "execution_count": 1,
   "metadata": {},
   "outputs": [],
   "source": [
    "%matplotlib inline"
   ]
  },
  {
   "cell_type": "markdown",
   "metadata": {},
   "source": [
    " \n",
    "Part 1: Some Basic Standout Features\n",
    "-----\n",
    "Let's learn about some interesting features by assigning variables and printing to screen:"
   ]
  },
  {
   "cell_type": "code",
   "execution_count": 2,
   "metadata": {},
   "outputs": [
    {
     "name": "stdout",
     "output_type": "stream",
     "text": [
      "1 1e+17 bark 0.3333333333333333\n"
     ]
    }
   ],
   "source": [
    "Dog = 1\n",
    "Cat = 1E17\n",
    "dog, cat = 'bark', 1/3.\n",
    "print(Dog, Cat, dog, cat)"
   ]
  },
  {
   "cell_type": "markdown",
   "metadata": {},
   "source": [
    "In the above trivial example, we learned a few subtly important things:\n",
    "\n",
    "* Python is **case sensitive.**\n",
    "* In Python 3.\\*, mixed-mode arithmetic defaults to the highest precision value of the arguments.\n",
    "* Python leverages *multiple assignment* in many situations.\n",
    "\n",
    "Don't sleep on that last point.  Multiple assignment is a core concept for writing efficient loops, handling function output, and more.  It's a very useful feature!\n",
    "\n",
    "Python has familiar data types that work as expected.  Let's look at a **list**:\n"
   ]
  },
  {
   "cell_type": "code",
   "execution_count": 3,
   "metadata": {},
   "outputs": [
    {
     "name": "stdout",
     "output_type": "stream",
     "text": [
      "[1, 2, 'cat', 0.3333333333333333, [1, 2, 3], 'f']\n",
      "[1, 2, 'cat']\n",
      "f\n",
      "[1, 'cat', [1, 2, 3]]\n",
      "3\n"
     ]
    }
   ],
   "source": [
    "list1 = [1,2,'cat',cat,[1,2,3], 'f']\n",
    "print(list1)\n",
    "print(list1[0:3])\n",
    "print(list1[-1])\n",
    "print(list1[0::2])\n",
    "print(list1[4][2])"
   ]
  },
  {
   "cell_type": "markdown",
   "metadata": {},
   "source": [
    "What did we do here?  First, we created a list.  Then, we used indexing and slicing to get the items we want to examine.  Some important notes:\n",
    "\n",
    "* Lists are homogeneous.  We can put anything in there- numbers, strings, even other lists, functions, and more.  \n",
    "* Python indexing is **zero based**.  The first item is item zero.\n",
    "* When we slice, the syntax `[0:3]` means that we obtain \"all items starting from but not equal to item 3\".  Mathematically, we would say, $[0,3)$.\n",
    "* Negative indices start from the end of the list.  The last item is -1.\n",
    "* We can set the cadence of our slice by providing a third number, separated by an additional colon.  If there's no number, Python assumes \"zero\" for the start, \"-1\" for the stop, and \"1\" for the cadence.\n",
    "* Finally, to extract our *nested* list, we just double up our brackets.  More on this soon.\n",
    "\n",
    "Let's explore another common data type that a surprising number of scientists do not take advantage of: Dictionaries!  Dictionaries (also known as associative arrays in other languages), are containers that organize things by key-value pairs.  Contrast this with lists, where things have a clear order (denoted via indices).  Let's look an example:"
   ]
  },
  {
   "cell_type": "code",
   "execution_count": 4,
   "metadata": {},
   "outputs": [
    {
     "name": "stdout",
     "output_type": "stream",
     "text": [
      "{'dan': 'cool guy', 1: 1e+17, 'gem': [1, 2, 'cat', 0.3333333333333333, [1, 2, 3], 'f']}\n",
      "cool guy\n",
      "{'dan': 'Okay, not that cool IRL', 1: 1e+17, 'gem': [1, 2, 'cat', 0.3333333333333333, [1, 2, 3], 'f'], 'carl': 'A good name.'}\n"
     ]
    }
   ],
   "source": [
    "dict1 = {'dan':'cool guy', 1:Cat, 'gem':list1} # Again, we can put anything in here.\n",
    "print(dict1)\n",
    "print(dict1['dan'])\n",
    "dict1['dan']  = 'Okay, not that cool IRL'\n",
    "dict1['carl'] = 'A good name.'\n",
    "print(dict1)"
   ]
  },
  {
   "cell_type": "markdown",
   "metadata": {},
   "source": [
    "When we store a *value* in our dictionary, we assign it a *key* -- either an integer or string literal that references that stored object.  **It is important to remember that dictionaries do not store things in order.** When we print our dictionary out, the order it comes out in is set by sheer luck!  Note that we can easily change or expand a dictionary by using old or creating new keys.\n",
    "\n",
    "**Why would you use this?** Dictionaries are useful for grouping values that are related, but the order doesn't really matter.  A good example is satellite time series data.  Typically, you have an array of time, an array of one observed value (say, magnetic field) and an array of another observed value (say, plasma density).  Strictly speaking, these values aren't related so closely that you want them in a three-by-number-of-time-points array.  You *could* do that, but it gets unwieldy quickly because you have to remember what index refers to what value set.  But the three values (time, magnetic field, and density) *are* related in the sense that they came from the same satellite over the same time period!  If we stash those all in a dictionary, it groups them together in a way that makes sense- we can set the time array value to a key called *time*, etc. Dictionaries are useful.  Try them out!"
   ]
  },
  {
   "cell_type": "markdown",
   "metadata": {},
   "source": [
    "Part 2: Writing Code Suites\n",
    "------\n",
    "This is a short tutorial- I don't have time to get into many details.  But I do want to show you what it looks like to write actual code in Python.  Let's start with a simple `for` loop:"
   ]
  },
  {
   "cell_type": "code",
   "execution_count": 5,
   "metadata": {},
   "outputs": [
    {
     "name": "stdout",
     "output_type": "stream",
     "text": [
      "Our list item is  1\n",
      "Our list item is  2\n",
      "Our list item is  cat\n",
      "Our list item is  0.3333333333333333\n",
      "Our list item is  [1, 2, 3]\n",
      "Our list item is  f\n",
      "Loop over!\n"
     ]
    }
   ],
   "source": [
    "for x in list1:\n",
    "    print('Our list item is ', x)\n",
    "print('Loop over!')"
   ]
  },
  {
   "cell_type": "markdown",
   "metadata": {},
   "source": [
    "A lot just happened.  Let's break it down:\n",
    "\n",
    "* Python is whitespace delimited.  We start and close all code suites (loops, functions, and more) using tabs.\n",
    "* Suppose we want nested loops or if statements.  We just keep tabbing over. \n",
    "* `for` loops are unique in Python.  For a full breakdown, [see this primer](https://nbviewer.jupyter.org/url/www-personal.umich.edu/~dwelling/python/notebooks/primer02_suites.ipynb).  Essentially, instead of working over an incrementing index, we loop over the items in any sequence- a list, string, dictionary, etc.\n",
    "\n",
    "I won't re-litigate whitespace delimiters compared to other ways (e.g., curly braces) suffice to say that I really like it- it enforces well organized source code.\n",
    "\n",
    "Let's do another example that highlights the importance of our *multiple assignment*:"
   ]
  },
  {
   "cell_type": "code",
   "execution_count": 6,
   "metadata": {},
   "outputs": [
    {
     "name": "stdout",
     "output_type": "stream",
     "text": [
      "Letter #0 is A\n",
      "Letter #1 is  \n",
      "Letter #2 is C\n",
      "Letter #3 is a\n",
      "Letter #4 is t\n",
      "Letter #5 is c\n",
      "Letter #6 is h\n",
      "Letter #7 is y\n",
      "Letter #8 is  \n",
      "Letter #9 is S\n",
      "Letter #10 is e\n",
      "Letter #11 is n\n",
      "Letter #12 is t\n",
      "Letter #13 is e\n",
      "Letter #14 is n\n",
      "Letter #15 is c\n",
      "Letter #16 is e\n",
      "Letter #17 is !\n"
     ]
    }
   ],
   "source": [
    "for i, x in enumerate('A Catchy Sentence!'):\n",
    "    print(\"Letter #{} is {}\".format(i,x))\n",
    "    "
   ]
  },
  {
   "cell_type": "markdown",
   "metadata": {},
   "source": [
    "Even more things happening!  We're getting complicated quickly! \n",
    "\n",
    "* A simple (but incomplete) description of **enumerate** is that for each iteration of our loop, it returns the index of the current item from which we are looping (\"A Catchy Sentence!\") *and* the item itself.  We assign those *two* things to `i` and `x` on each iteration.  There are other very helpful functions that make loops insanely powerful, such as **zip**.\n",
    "* We then print off our values using *string formatting*.  I don't have the time and space to get into that here, suffice to say that it's very powerful and you can learn more by [clicking this link.](https://docs.python.org/3.7/library/string.html#format-string-syntax)\n",
    "\n",
    "Okay, one last thing- let's write a function.  I'm going to be painfully superficial here..."
   ]
  },
  {
   "cell_type": "code",
   "execution_count": 7,
   "metadata": {},
   "outputs": [
    {
     "name": "stdout",
     "output_type": "stream",
     "text": [
      "9 45\n",
      "(100, 50.0)\n"
     ]
    }
   ],
   "source": [
    "def power(x, pow=2, factor=5):\n",
    "    '''\n",
    "    Take a value, *x*, to the power set by *pow* (defaults to 2).\n",
    "    Both the exponent result and the same thing multiplied by *factor*.\n",
    "    '''\n",
    "    \n",
    "    return x**pow, factor*x**pow\n",
    "\n",
    "result1, result2 = power(3)\n",
    "print(result1, result2)\n",
    "\n",
    "everything = power(10, factor=.5)\n",
    "print(everything)"
   ]
  },
  {
   "cell_type": "markdown",
   "metadata": {},
   "source": [
    "We define functions with the **def** syntax.  Inside the parentheses are *arguments*.  When our function is called, all arguments are *required in order*.  After that, we have *keyword arguments*, which, when the function is called, are *optional* and *not ordered*.  \n",
    "\n",
    "Next, we have the **docstring**.  Docstrings are how we set our function's help information (discussed below).  **USE DOCSTRINGS EVERY TIME.** After that, we have the meat of our function.  In the end, we return two values.\n",
    "\n",
    "The beauty in using functions in python is how multiple assignment is wielded.  The function hands everything back at once, so we can collect the output all at once (as a **tuple**, or a list that can't be changed) or assign things to their own variable as we get them."
   ]
  },
  {
   "cell_type": "markdown",
   "metadata": {},
   "source": [
    "Part 3: Expanding Capabilities With Packages\n",
    "-----\n",
    "Let's do some real math now.  Let's **import** \"numpy\", and explore some functionality:"
   ]
  },
  {
   "cell_type": "code",
   "execution_count": 8,
   "metadata": {},
   "outputs": [
    {
     "name": "stdout",
     "output_type": "stream",
     "text": [
      "[4 3 2 1]\n",
      "[1.5 3.  4.5 6.  7.5]\n",
      "[ 2  4  6  8 10]\n",
      "[ 1  4  9 16 25]\n"
     ]
    }
   ],
   "source": [
    "import numpy as np\n",
    "a1 = np.array( [1,2,3,4,5] )\n",
    "a2 = np.arange( 5 ) + 1\n",
    "print(a1[3::-1])\n",
    "print(1.5 * a1)\n",
    "print(a1+a2)\n",
    "print(a1*a2)"
   ]
  },
  {
   "cell_type": "markdown",
   "metadata": {},
   "source": [
    "Let's start with the elephant in the source code: `import`.  Import makes material in a python module or package available for use.  We can't use numpy until we import it into the current namespace.  Note that we renamed it for the current session- it's easier to type `np` than `numpy` every time.  We can import individual parts of a package by typing `from module import something`.  That's often a convenient way to get just one thing from a very large \n",
    "\n",
    "Oh, and if anyone ever tells you to type `from module import *`, don't listen to them.  Ever.  About anything.  Stay away from that person.  They're going to try to tell you that `goto` is a good idea ([it's not.](https://xkcd.com/292/))\n",
    "\n",
    "As you can see, Numpy gives us real array syntax.  Arrays work like lists that do math.  We can do element-wise arithmetic, array and vector operations, and way more- masked arrays, means, stats, and much, much more.  Numpy is very powerful and fast.  Above, notice how we can index and slice arrays like regular lists.  But Numpy arrays are better than that- we can do *tricky indexing!*"
   ]
  },
  {
   "cell_type": "code",
   "execution_count": 9,
   "metadata": {},
   "outputs": [
    {
     "name": "stdout",
     "output_type": "stream",
     "text": [
      "[1.         1.44444444 1.88888889 2.33333333 2.77777778 3.22222222\n",
      " 3.66666667 4.11111111 4.55555556 5.        ]\n",
      "[3.22222222 3.66666667 4.11111111 4.55555556 5.        ]\n",
      "[False False False  True  True  True  True False False False]\n",
      "[2.33333333 2.77777778 3.22222222 3.66666667]\n"
     ]
    }
   ],
   "source": [
    "a3 = np.linspace(1,5, 10)\n",
    "print(a3)\n",
    "print(a3[ a3>3 ])\n",
    "x = (a3<4)&(a3>2)\n",
    "print(x)\n",
    "print(a3[x])"
   ]
  },
  {
   "cell_type": "markdown",
   "metadata": {},
   "source": [
    "Whoa, what was all that?  First, we made an array of 10 evenly spaced values from 1 to 5 using `np.linspace`.  Then, instead of using indices to pull out values of interest, we used *tricky indexing*.  Tricky indexing allows us to use a logic argument instead of a slice or index.  The 2nd example breaks it down just a touch more: an numpy logic statement returns an array of the same shape with only boolean values that denote the result of the logic statement.  We then plug that in to mask our array.  Pretty cool, eh?\n",
    "\n",
    "Let's do some more math:"
   ]
  },
  {
   "cell_type": "code",
   "execution_count": 10,
   "metadata": {},
   "outputs": [
    {
     "name": "stdout",
     "output_type": "stream",
     "text": [
      "3.0\n",
      "[ 1.          2.44444444  4.33333333  6.66666667  9.44444444 12.66666667\n",
      " 16.33333333 20.44444444 25.         30.        ]\n"
     ]
    }
   ],
   "source": [
    "print( a3.mean() )\n",
    "print( a3.cumsum() )"
   ]
  },
  {
   "cell_type": "markdown",
   "metadata": {},
   "source": [
    "Cool!  We calculated the mean, then the cumulative sum of an array.  There are way more functions (don't get married to that word, we're going to kill it in a second) that we can use.  In IPython, we can tab-complete to see what else there is.  We can also use *?* to get help:"
   ]
  },
  {
   "cell_type": "code",
   "execution_count": 11,
   "metadata": {},
   "outputs": [],
   "source": [
    "# SMASH TAB HERE!  THEN USE QUESTION MARK TO SEE WHAT THINGS DO!\n",
    "a3.all?"
   ]
  },
  {
   "cell_type": "markdown",
   "metadata": {},
   "source": [
    "Part 3: The One Time Where Objectification is a Good Thing\n",
    "--------\n",
    "So what the heck is going on with this *variable-dot-function* syntax?  This is actually an object-oriented way of doing business.  The `.mean` isn't a *function* per se, it's an **object method**.  Object methods are functions that are part of and integrated into the object from which they come.  Typically, they act on the object themselves.  While our `.mean` doesn't buy us much, object methods can save us a lot of time and energy.  \n",
    "\n",
    "There are also **object attributes**.  These are variables that are contained within the namespace of the object (this is a fancy way of saying that the names of the attributes don't clash with variables in other spaces).  To wit,"
   ]
  },
  {
   "cell_type": "code",
   "execution_count": 12,
   "metadata": {},
   "outputs": [
    {
     "name": "stdout",
     "output_type": "stream",
     "text": [
      "10\n",
      "(10,)\n",
      "10\n"
     ]
    }
   ],
   "source": [
    "print(a3.size)\n",
    "print(a3.shape)\n",
    "size='cow'\n",
    "print(a3.size)"
   ]
  },
  {
   "cell_type": "raw",
   "metadata": {},
   "source": [
    "First, we see that the **size** and **shape** attributes describe our arrays.  Attributes can do that, or they can store some value that's critical to the object, or just be a random variable that got stuck living with the object.  Next, we see that the object attributes are in a separate namespace than other variables.  `size` is different than `a3.size`.  \n",
    "\n",
    "In Python, **everything is an object**.  The object oriented way of thinking is embedded into everything we do.  Reviewing our already defined variables,"
   ]
  },
  {
   "cell_type": "code",
   "execution_count": 13,
   "metadata": {},
   "outputs": [
    {
     "name": "stdout",
     "output_type": "stream",
     "text": [
      "1\n",
      "dict_keys(['dan', 1, 'gem', 'carl'])\n",
      "BARK\n"
     ]
    }
   ],
   "source": [
    "print( list1.count(2) ) # Count the number of times \"2\" appears in list1\n",
    "print( dict1.keys() )   # Get all keys inside of dict1\n",
    "print( dog.upper() )    # Make the string \"dog\" all upper case."
   ]
  },
  {
   "cell_type": "markdown",
   "metadata": {},
   "source": [
    "Before we get too much farther, I'd like to introduce you to another important object type: Python's **datetimes**."
   ]
  },
  {
   "cell_type": "code",
   "execution_count": 14,
   "metadata": {},
   "outputs": [
    {
     "name": "stdout",
     "output_type": "stream",
     "text": [
      "2008-01-18 21:54:17 2010-09-14 12:13:30\n",
      "21\n",
      "2008-01-18T21:54:17\n",
      "969 days, 14:19:13\n",
      "83773153.0\n"
     ]
    }
   ],
   "source": [
    "from datetime import datetime\n",
    "d1 = datetime(2008,1,18,21,54,17)\n",
    "d2 = datetime(2010,9,14,12,13,30)\n",
    "print(d1, d2)\n",
    "print(d1.hour)\n",
    "print(d1.isoformat())\n",
    "delta = d2 - d1\n",
    "print(delta)\n",
    "print(delta.total_seconds())"
   ]
  },
  {
   "cell_type": "markdown",
   "metadata": {},
   "source": [
    "datetime objects are wildly powerful in Python.  They can be subtracted from each other.  They can be stored in Numpy arrays.  They can be used in plots without conversion.  They solve many problems when handling dates, times, and data."
   ]
  },
  {
   "cell_type": "markdown",
   "metadata": {},
   "source": [
    "If you do not already, I urge you to embrace object oriented programming.  In science, some of our work can be truly automated- we can write a script to create wide swaths of plots and do complicated calculations.  However, much of it is *exploratory* - we get a new data file, and we need to poke and prod and play until we know what's in there.  There's no point creating a new script to do that.  It requires a human to play with a file at the command prompt.  Let's see how that looks in a real life scenario.\n",
    "\n",
    "Download the *example_imf.py* module and the *imf_jul2000.dat* file.  This is a simple ascii file of solar wind and IMF data.  We're going to use a special **class** of object, *ImfData*, to read and explore this data.  The source code is *heavily* commented, so feel free to read and explore to see how all of this was accomplished."
   ]
  },
  {
   "cell_type": "code",
   "execution_count": 15,
   "metadata": {},
   "outputs": [
    {
     "name": "stdout",
     "output_type": "stream",
     "text": [
      "ImfData object of data/imf_jul2000.dat\n",
      "dict_keys(['time', 'bx', 'by', 'bz', 'vx', 'vy', 'vz', 'rho', 'temp'])\n",
      "[-4.85 -2.45 -2.25 -4.   -4.3 ]\n",
      "[datetime.datetime(2000, 7, 15, 0, 0) datetime.datetime(2000, 7, 15, 1, 0)\n",
      " datetime.datetime(2000, 7, 15, 2, 0) datetime.datetime(2000, 7, 15, 3, 0)\n",
      " datetime.datetime(2000, 7, 15, 4, 0)]\n",
      "ImfData object of data/imf_jul2000.dat\n"
     ]
    },
    {
     "data": {
      "image/png": "[encoded data removed]",
      "text/plain": [
       "<Figure size 612x792 with 3 Axes>"
      ]
     },
     "metadata": {
      "needs_background": "light"
     },
     "output_type": "display_data"
    }
   ],
   "source": [
    "from example_imf import ImfData\n",
    "imf = ImfData('data/imf_jul2000.dat')\n",
    "print(imf)\n",
    "print(imf.keys())\n",
    "print(imf['bx'][:5])\n",
    "print(imf['time'][:5])\n",
    "imf.calc_epsilon()\n",
    "print(imf)\n",
    "imf.keys()\n",
    "imf.plot_imf()"
   ]
  },
  {
   "cell_type": "markdown",
   "metadata": {},
   "source": [
    "So what did we do here?  Let's break it down line by line:\n",
    "\n",
    "* First, we *instantiated* an object.  Specifically, we created a new object, `imf`, of class `ImfData`.  When creating it, we handed it the name of a IMF data file to read.\n",
    "* Next, to see what this object looks like, we printed it to screen.  We can customize exactly what we see when we do this.\n",
    "* `ImfData` is a sub-class of a dictionary- this means it works like a dictionary with new features.  Each *value* is an array of data (e.g., magnetic field data); the *key* is the name of the data inside the array.  We can explore the data like it's a dictionary.\n",
    "* Next, we can use tab-complete to see there are many object methods here.  Specifically, we can calculate the epsilon parameter for solar-wind/magnetosphere coupling with a quick call.  It adds a new value to the dictionary.\n",
    "* Finally, we use an object method to make a quick look plot.  This gives us a well-formatted plot to summarize the data.\n",
    "\n",
    "Contrast this with a procedural way of doing this, or an approach that does not use dictionaries.  You need many functions that know how to handle your data structure.  They may be scattered in different subroutines or modules.  With an OO approach, the functions are *methods* attached to the object- we can't lose them.  The dictionary approach makes it easier to organize our data; we see that our epsilon value gets sorted directly with its peers.  All of this can be easily sorted into a script that does this in an automated fashion."
   ]
  },
  {
   "cell_type": "markdown",
   "metadata": {},
   "source": [
    "Summary\n",
    "------\n",
    "I hope this very short introduction gives you the flavor of working in Python.  There's so much more to explore, however.  Consider checking out the following packages:\n",
    "\n",
    "* The **os** module, which allows us to interact with the operating system, including making directories, moving and deleting.\n",
    "* The **glob** module, which allows us to use linux-like wildcards to glob a list of files.\n",
    "* **urllib**, which handles creating URLs and opening websites like files.\n",
    "* **re**, the regular expression library.\n",
    "* **argparse**, a library for creating and parsing Unix-like command line arguments for Python scripts.\n",
    "\n",
    "There's always so much more, but this is a start."
   ]
  }
 ],
 "metadata": {
  "kernelspec": {
   "display_name": "Python 3",
   "language": "python",
   "name": "python3"
  },
  "language_info": {
   "codemirror_mode": {
    "name": "ipython",
    "version": 3
   },
   "file_extension": ".py",
   "mimetype": "text/x-python",
   "name": "python",
   "nbconvert_exporter": "python",
   "pygments_lexer": "ipython3",
   "version": "3.7.3"
  }
 },
 "nbformat": 4,
 "nbformat_minor": 2
}
